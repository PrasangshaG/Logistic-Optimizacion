{
 "cells": [
  {
   "cell_type": "code",
   "execution_count": 1,
   "metadata": {},
   "outputs": [],
   "source": [
    "import string\n",
    "import time\n",
    "import sys\n",
    "from queue import PriorityQueue"
   ]
  },
  {
   "cell_type": "code",
   "execution_count": 2,
   "metadata": {},
   "outputs": [],
   "source": [
    "class Graph:\n",
    "    def __init__(self, number_node):\n",
    "        self.dimV = number_node\n",
    "        self.V = []\n",
    "        for i in range(self.dimV):\n",
    "            self.V.append(i)\n",
    "        self.E = []\n",
    "        self.Adj = {}\n",
    "        print(\"The vertices are:\")\n",
    "        print(self.V)\n",
    "        print(\"Add Edges:(v1, v2, cost)\")\n",
    "    def addedges(self, v1, v2, C):\n",
    "        edge=(v1,v2)\n",
    "        self.E.append(edge)\n",
    "        self.Adj[edge] = C\n",
    "        print(\"Edge added \" +str(v1)+\" to \"+ str(v2)+ \" with cost \"+ str(C))\n",
    "    "
   ]
  },
  {
   "cell_type": "code",
   "execution_count": 3,
   "metadata": {},
   "outputs": [],
   "source": [
    "def Dijkstra(G, s):\n",
    "    d = {}\n",
    "    pi = {}\n",
    "    S = []\n",
    "    Q = PriorityQueue()\n",
    "    Initialize(G, d, pi, s)\n",
    "    for v in d:\n",
    "        dist = d[v]\n",
    "        tupl = (dist,v)\n",
    "        Q.put(tupl)\n",
    "    while not Q.empty():\n",
    "        mintupl = Q.get()\n",
    "        u = mintupl[1]\n",
    "        S.append(u)        \n",
    "        for v in G.V:\n",
    "            e = (u,v)\n",
    "            if(e in G.E):\n",
    "                Relax(G, u, v, d, pi, Q)\n",
    "    return d, pi   "
   ]
  },
  {
   "cell_type": "code",
   "execution_count": 4,
   "metadata": {},
   "outputs": [],
   "source": [
    "def Initialize(G, d, pi, s):\n",
    "    for v in G.V:\n",
    "        d[v] = sys.maxsize\n",
    "        pi[v] = -1\n",
    "    d[s] = 0"
   ]
  },
  {
   "cell_type": "code",
   "execution_count": 5,
   "metadata": {},
   "outputs": [],
   "source": [
    "def Relax(G, u, v, d, pi, Q):\n",
    "    edge = (u, v)\n",
    "    if(d[v] > d[u] + G.Adj[edge]):\n",
    "        d[v] = d[u] + G.Adj[edge]\n",
    "        pi[v] = u\n",
    "        ### update the distance of v in the priority queue ##\n",
    "        tuply = (d[v], v)\n",
    "        Q.put(tuply)"
   ]
  },
  {
   "cell_type": "code",
   "execution_count": 6,
   "metadata": {},
   "outputs": [],
   "source": [
    "def Constructpath(G, pi, source, v, path):\n",
    "    parent = pi[v]\n",
    "    path.append(parent)\n",
    "    if (pi[v] == source):\n",
    "        return path\n",
    "    else: \n",
    "        return Constructpath(G, pi, source, pi[v], path)"
   ]
  },
  {
   "cell_type": "code",
   "execution_count": 7,
   "metadata": {},
   "outputs": [
    {
     "name": "stdout",
     "output_type": "stream",
     "text": [
      "The vertices are:\n",
      "[0, 1, 2, 3, 4]\n",
      "Add Edges:(v1, v2, cost)\n",
      "Edge added 0 to 1 with cost 10\n",
      "Edge added 0 to 2 with cost 5\n",
      "Edge added 1 to 2 with cost 2\n",
      "Edge added 2 to 1 with cost 3\n",
      "Edge added 1 to 3 with cost 1\n",
      "Edge added 2 to 3 with cost 9\n",
      "Edge added 2 to 4 with cost 2\n",
      "Edge added 3 to 4 with cost 4\n",
      "Edge added 4 to 3 with cost 6\n",
      "Edge added 4 to 0 with cost 7\n",
      "The shortest paths:\n",
      "From 0 to 1 is [0, 2]-> 1 with cost = 8\n",
      "From 0 to 2 is [0]-> 2 with cost = 5\n",
      "From 0 to 3 is [0, 2, 1]-> 3 with cost = 9\n",
      "From 0 to 4 is [0, 2]-> 4 with cost = 7\n"
     ]
    }
   ],
   "source": [
    "G = Graph(5)\n",
    "\n",
    "G.addedges(0,1,10)\n",
    "G.addedges(0,2,5)\n",
    "G.addedges(1,2,2)\n",
    "G.addedges(2,1,3)\n",
    "G.addedges(1,3,1)\n",
    "G.addedges(2,3,9)\n",
    "G.addedges(2,4,2)\n",
    "G.addedges(3,4,4)\n",
    "G.addedges(4,3,6)\n",
    "G.addedges(4,0,7)\n",
    "\n",
    "sourcevertex = 0\n",
    "distance, pi = Dijkstra(G, sourcevertex)\n",
    "\n",
    "print(\"The shortest paths:\")\n",
    "for v in G.V:\n",
    "    if (v != sourcevertex):\n",
    "        path = []\n",
    "        path = Constructpath(G, pi, sourcevertex, v, path)\n",
    "        actualpath = path[::-1] \n",
    "        print(\"From \" + str(sourcevertex) + \" to \" + str(v) + \" is \" + str(actualpath) + \"-> \" + str(v)+ \" with cost = \" + str(distance[v]))"
   ]
  },
  {
   "cell_type": "code",
   "execution_count": null,
   "metadata": {},
   "outputs": [],
   "source": []
  }
 ],
 "metadata": {
  "kernelspec": {
   "display_name": "Python 3",
   "language": "python",
   "name": "python3"
  },
  "language_info": {
   "codemirror_mode": {
    "name": "ipython",
    "version": 3
   },
   "file_extension": ".py",
   "mimetype": "text/x-python",
   "name": "python",
   "nbconvert_exporter": "python",
   "pygments_lexer": "ipython3",
   "version": "3.7.4"
  }
 },
 "nbformat": 4,
 "nbformat_minor": 2
}
